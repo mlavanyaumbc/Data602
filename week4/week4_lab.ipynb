{
 "cells": [
  {
   "cell_type": "markdown",
   "id": "318de7cb",
   "metadata": {
    "id": "318de7cb"
   },
   "source": [
    "# Week4 - Lab\n",
    "\n",
    "Take a look at this toy dataset. Perform the following operations\n",
    "* Train-test split\n",
    "* Train a linear regression model\n",
    "* Evaluate/create residual plots\n",
    "* Explain findings"
   ]
  },
  {
   "cell_type": "code",
   "execution_count": 1,
   "id": "4089dbd4",
   "metadata": {
    "id": "4089dbd4"
   },
   "outputs": [],
   "source": [
    "#imported packages\n",
    "import pandas as pd\n",
    "import numpy as np\n",
    "import matplotlib.pyplot as plt\n",
    "import random\n",
    "import statsmodels.api as smf\n",
    "\n",
    "data1 = pd.read_csv('https://raw.githubusercontent.com/msaricaumbc/DS_data/master/ds602/regression/lab4_1.csv')\n",
    "data2 = pd.read_csv('https://raw.githubusercontent.com/msaricaumbc/DS_data/master/ds602/regression/lab4_2.csv')"
   ]
  },
  {
   "cell_type": "code",
   "execution_count": 2,
   "id": "f7cda82e",
   "metadata": {
    "id": "f7cda82e"
   },
   "outputs": [
    {
     "data": {
      "text/html": [
       "<div>\n",
       "<style scoped>\n",
       "    .dataframe tbody tr th:only-of-type {\n",
       "        vertical-align: middle;\n",
       "    }\n",
       "\n",
       "    .dataframe tbody tr th {\n",
       "        vertical-align: top;\n",
       "    }\n",
       "\n",
       "    .dataframe thead th {\n",
       "        text-align: right;\n",
       "    }\n",
       "</style>\n",
       "<table border=\"1\" class=\"dataframe\">\n",
       "  <thead>\n",
       "    <tr style=\"text-align: right;\">\n",
       "      <th></th>\n",
       "      <th>Unnamed: 0</th>\n",
       "      <th>X</th>\n",
       "      <th>y</th>\n",
       "    </tr>\n",
       "  </thead>\n",
       "  <tbody>\n",
       "    <tr>\n",
       "      <th>0</th>\n",
       "      <td>0</td>\n",
       "      <td>50</td>\n",
       "      <td>147</td>\n",
       "    </tr>\n",
       "    <tr>\n",
       "      <th>1</th>\n",
       "      <td>1</td>\n",
       "      <td>82</td>\n",
       "      <td>246</td>\n",
       "    </tr>\n",
       "    <tr>\n",
       "      <th>2</th>\n",
       "      <td>2</td>\n",
       "      <td>66</td>\n",
       "      <td>207</td>\n",
       "    </tr>\n",
       "    <tr>\n",
       "      <th>3</th>\n",
       "      <td>3</td>\n",
       "      <td>35</td>\n",
       "      <td>105</td>\n",
       "    </tr>\n",
       "    <tr>\n",
       "      <th>4</th>\n",
       "      <td>4</td>\n",
       "      <td>81</td>\n",
       "      <td>240</td>\n",
       "    </tr>\n",
       "    <tr>\n",
       "      <th>...</th>\n",
       "      <td>...</td>\n",
       "      <td>...</td>\n",
       "      <td>...</td>\n",
       "    </tr>\n",
       "    <tr>\n",
       "      <th>95</th>\n",
       "      <td>95</td>\n",
       "      <td>98</td>\n",
       "      <td>285</td>\n",
       "    </tr>\n",
       "    <tr>\n",
       "      <th>96</th>\n",
       "      <td>96</td>\n",
       "      <td>9</td>\n",
       "      <td>18</td>\n",
       "    </tr>\n",
       "    <tr>\n",
       "      <th>97</th>\n",
       "      <td>97</td>\n",
       "      <td>56</td>\n",
       "      <td>174</td>\n",
       "    </tr>\n",
       "    <tr>\n",
       "      <th>98</th>\n",
       "      <td>98</td>\n",
       "      <td>50</td>\n",
       "      <td>159</td>\n",
       "    </tr>\n",
       "    <tr>\n",
       "      <th>99</th>\n",
       "      <td>99</td>\n",
       "      <td>53</td>\n",
       "      <td>147</td>\n",
       "    </tr>\n",
       "  </tbody>\n",
       "</table>\n",
       "<p>100 rows × 3 columns</p>\n",
       "</div>"
      ],
      "text/plain": [
       "    Unnamed: 0   X    y\n",
       "0            0  50  147\n",
       "1            1  82  246\n",
       "2            2  66  207\n",
       "3            3  35  105\n",
       "4            4  81  240\n",
       "..         ...  ..  ...\n",
       "95          95  98  285\n",
       "96          96   9   18\n",
       "97          97  56  174\n",
       "98          98  50  159\n",
       "99          99  53  147\n",
       "\n",
       "[100 rows x 3 columns]"
      ]
     },
     "execution_count": 2,
     "metadata": {},
     "output_type": "execute_result"
    }
   ],
   "source": [
    "#prints the data1 dataset\n",
    "data1"
   ]
  },
  {
   "cell_type": "code",
   "execution_count": 3,
   "id": "9c1a09d7",
   "metadata": {
    "scrolled": true
   },
   "outputs": [
    {
     "data": {
      "text/html": [
       "<div>\n",
       "<style scoped>\n",
       "    .dataframe tbody tr th:only-of-type {\n",
       "        vertical-align: middle;\n",
       "    }\n",
       "\n",
       "    .dataframe tbody tr th {\n",
       "        vertical-align: top;\n",
       "    }\n",
       "\n",
       "    .dataframe thead th {\n",
       "        text-align: right;\n",
       "    }\n",
       "</style>\n",
       "<table border=\"1\" class=\"dataframe\">\n",
       "  <thead>\n",
       "    <tr style=\"text-align: right;\">\n",
       "      <th></th>\n",
       "      <th>Unnamed: 0</th>\n",
       "      <th>X1</th>\n",
       "      <th>X2</th>\n",
       "      <th>y</th>\n",
       "    </tr>\n",
       "  </thead>\n",
       "  <tbody>\n",
       "    <tr>\n",
       "      <th>0</th>\n",
       "      <td>0</td>\n",
       "      <td>50</td>\n",
       "      <td>B</td>\n",
       "      <td>2510</td>\n",
       "    </tr>\n",
       "    <tr>\n",
       "      <th>1</th>\n",
       "      <td>1</td>\n",
       "      <td>82</td>\n",
       "      <td>B</td>\n",
       "      <td>6738</td>\n",
       "    </tr>\n",
       "    <tr>\n",
       "      <th>2</th>\n",
       "      <td>2</td>\n",
       "      <td>66</td>\n",
       "      <td>B</td>\n",
       "      <td>4355</td>\n",
       "    </tr>\n",
       "    <tr>\n",
       "      <th>3</th>\n",
       "      <td>3</td>\n",
       "      <td>35</td>\n",
       "      <td>A</td>\n",
       "      <td>2225</td>\n",
       "    </tr>\n",
       "    <tr>\n",
       "      <th>4</th>\n",
       "      <td>4</td>\n",
       "      <td>81</td>\n",
       "      <td>A</td>\n",
       "      <td>7560</td>\n",
       "    </tr>\n",
       "    <tr>\n",
       "      <th>...</th>\n",
       "      <td>...</td>\n",
       "      <td>...</td>\n",
       "      <td>...</td>\n",
       "      <td>...</td>\n",
       "    </tr>\n",
       "    <tr>\n",
       "      <th>95</th>\n",
       "      <td>95</td>\n",
       "      <td>98</td>\n",
       "      <td>B</td>\n",
       "      <td>9615</td>\n",
       "    </tr>\n",
       "    <tr>\n",
       "      <th>96</th>\n",
       "      <td>96</td>\n",
       "      <td>9</td>\n",
       "      <td>A</td>\n",
       "      <td>1066</td>\n",
       "    </tr>\n",
       "    <tr>\n",
       "      <th>97</th>\n",
       "      <td>97</td>\n",
       "      <td>56</td>\n",
       "      <td>A</td>\n",
       "      <td>4139</td>\n",
       "    </tr>\n",
       "    <tr>\n",
       "      <th>98</th>\n",
       "      <td>98</td>\n",
       "      <td>50</td>\n",
       "      <td>B</td>\n",
       "      <td>2502</td>\n",
       "    </tr>\n",
       "    <tr>\n",
       "      <th>99</th>\n",
       "      <td>99</td>\n",
       "      <td>53</td>\n",
       "      <td>A</td>\n",
       "      <td>3815</td>\n",
       "    </tr>\n",
       "  </tbody>\n",
       "</table>\n",
       "<p>100 rows × 4 columns</p>\n",
       "</div>"
      ],
      "text/plain": [
       "    Unnamed: 0  X1 X2     y\n",
       "0            0  50  B  2510\n",
       "1            1  82  B  6738\n",
       "2            2  66  B  4355\n",
       "3            3  35  A  2225\n",
       "4            4  81  A  7560\n",
       "..         ...  .. ..   ...\n",
       "95          95  98  B  9615\n",
       "96          96   9  A  1066\n",
       "97          97  56  A  4139\n",
       "98          98  50  B  2502\n",
       "99          99  53  A  3815\n",
       "\n",
       "[100 rows x 4 columns]"
      ]
     },
     "execution_count": 3,
     "metadata": {},
     "output_type": "execute_result"
    }
   ],
   "source": [
    "#prints the data2 dataset\n",
    "data2"
   ]
  },
  {
   "cell_type": "markdown",
   "id": "501aa66f",
   "metadata": {},
   "source": [
    "# For data1"
   ]
  },
  {
   "cell_type": "code",
   "execution_count": 4,
   "id": "4a7a47f2",
   "metadata": {},
   "outputs": [
    {
     "data": {
      "text/html": [
       "<div>\n",
       "<style scoped>\n",
       "    .dataframe tbody tr th:only-of-type {\n",
       "        vertical-align: middle;\n",
       "    }\n",
       "\n",
       "    .dataframe tbody tr th {\n",
       "        vertical-align: top;\n",
       "    }\n",
       "\n",
       "    .dataframe thead th {\n",
       "        text-align: right;\n",
       "    }\n",
       "</style>\n",
       "<table border=\"1\" class=\"dataframe\">\n",
       "  <thead>\n",
       "    <tr style=\"text-align: right;\">\n",
       "      <th></th>\n",
       "      <th>X</th>\n",
       "      <th>y</th>\n",
       "    </tr>\n",
       "  </thead>\n",
       "  <tbody>\n",
       "    <tr>\n",
       "      <th>0</th>\n",
       "      <td>50</td>\n",
       "      <td>147</td>\n",
       "    </tr>\n",
       "    <tr>\n",
       "      <th>1</th>\n",
       "      <td>82</td>\n",
       "      <td>246</td>\n",
       "    </tr>\n",
       "    <tr>\n",
       "      <th>2</th>\n",
       "      <td>66</td>\n",
       "      <td>207</td>\n",
       "    </tr>\n",
       "    <tr>\n",
       "      <th>3</th>\n",
       "      <td>35</td>\n",
       "      <td>105</td>\n",
       "    </tr>\n",
       "    <tr>\n",
       "      <th>4</th>\n",
       "      <td>81</td>\n",
       "      <td>240</td>\n",
       "    </tr>\n",
       "    <tr>\n",
       "      <th>...</th>\n",
       "      <td>...</td>\n",
       "      <td>...</td>\n",
       "    </tr>\n",
       "    <tr>\n",
       "      <th>95</th>\n",
       "      <td>98</td>\n",
       "      <td>285</td>\n",
       "    </tr>\n",
       "    <tr>\n",
       "      <th>96</th>\n",
       "      <td>9</td>\n",
       "      <td>18</td>\n",
       "    </tr>\n",
       "    <tr>\n",
       "      <th>97</th>\n",
       "      <td>56</td>\n",
       "      <td>174</td>\n",
       "    </tr>\n",
       "    <tr>\n",
       "      <th>98</th>\n",
       "      <td>50</td>\n",
       "      <td>159</td>\n",
       "    </tr>\n",
       "    <tr>\n",
       "      <th>99</th>\n",
       "      <td>53</td>\n",
       "      <td>147</td>\n",
       "    </tr>\n",
       "  </tbody>\n",
       "</table>\n",
       "<p>100 rows × 2 columns</p>\n",
       "</div>"
      ],
      "text/plain": [
       "     X    y\n",
       "0   50  147\n",
       "1   82  246\n",
       "2   66  207\n",
       "3   35  105\n",
       "4   81  240\n",
       "..  ..  ...\n",
       "95  98  285\n",
       "96   9   18\n",
       "97  56  174\n",
       "98  50  159\n",
       "99  53  147\n",
       "\n",
       "[100 rows x 2 columns]"
      ]
     },
     "execution_count": 4,
     "metadata": {},
     "output_type": "execute_result"
    }
   ],
   "source": [
    "data1 = data1.drop('Unnamed: 0', axis=1)\n",
    "data1"
   ]
  },
  {
   "cell_type": "code",
   "execution_count": 5,
   "id": "0a0ece6c",
   "metadata": {},
   "outputs": [
    {
     "data": {
      "text/html": [
       "<div>\n",
       "<style scoped>\n",
       "    .dataframe tbody tr th:only-of-type {\n",
       "        vertical-align: middle;\n",
       "    }\n",
       "\n",
       "    .dataframe tbody tr th {\n",
       "        vertical-align: top;\n",
       "    }\n",
       "\n",
       "    .dataframe thead th {\n",
       "        text-align: right;\n",
       "    }\n",
       "</style>\n",
       "<table border=\"1\" class=\"dataframe\">\n",
       "  <thead>\n",
       "    <tr style=\"text-align: right;\">\n",
       "      <th></th>\n",
       "      <th>X1</th>\n",
       "      <th>X2</th>\n",
       "      <th>y</th>\n",
       "    </tr>\n",
       "  </thead>\n",
       "  <tbody>\n",
       "    <tr>\n",
       "      <th>0</th>\n",
       "      <td>50</td>\n",
       "      <td>B</td>\n",
       "      <td>2510</td>\n",
       "    </tr>\n",
       "    <tr>\n",
       "      <th>1</th>\n",
       "      <td>82</td>\n",
       "      <td>B</td>\n",
       "      <td>6738</td>\n",
       "    </tr>\n",
       "    <tr>\n",
       "      <th>2</th>\n",
       "      <td>66</td>\n",
       "      <td>B</td>\n",
       "      <td>4355</td>\n",
       "    </tr>\n",
       "    <tr>\n",
       "      <th>3</th>\n",
       "      <td>35</td>\n",
       "      <td>A</td>\n",
       "      <td>2225</td>\n",
       "    </tr>\n",
       "    <tr>\n",
       "      <th>4</th>\n",
       "      <td>81</td>\n",
       "      <td>A</td>\n",
       "      <td>7560</td>\n",
       "    </tr>\n",
       "    <tr>\n",
       "      <th>...</th>\n",
       "      <td>...</td>\n",
       "      <td>...</td>\n",
       "      <td>...</td>\n",
       "    </tr>\n",
       "    <tr>\n",
       "      <th>95</th>\n",
       "      <td>98</td>\n",
       "      <td>B</td>\n",
       "      <td>9615</td>\n",
       "    </tr>\n",
       "    <tr>\n",
       "      <th>96</th>\n",
       "      <td>9</td>\n",
       "      <td>A</td>\n",
       "      <td>1066</td>\n",
       "    </tr>\n",
       "    <tr>\n",
       "      <th>97</th>\n",
       "      <td>56</td>\n",
       "      <td>A</td>\n",
       "      <td>4139</td>\n",
       "    </tr>\n",
       "    <tr>\n",
       "      <th>98</th>\n",
       "      <td>50</td>\n",
       "      <td>B</td>\n",
       "      <td>2502</td>\n",
       "    </tr>\n",
       "    <tr>\n",
       "      <th>99</th>\n",
       "      <td>53</td>\n",
       "      <td>A</td>\n",
       "      <td>3815</td>\n",
       "    </tr>\n",
       "  </tbody>\n",
       "</table>\n",
       "<p>100 rows × 3 columns</p>\n",
       "</div>"
      ],
      "text/plain": [
       "    X1 X2     y\n",
       "0   50  B  2510\n",
       "1   82  B  6738\n",
       "2   66  B  4355\n",
       "3   35  A  2225\n",
       "4   81  A  7560\n",
       "..  .. ..   ...\n",
       "95  98  B  9615\n",
       "96   9  A  1066\n",
       "97  56  A  4139\n",
       "98  50  B  2502\n",
       "99  53  A  3815\n",
       "\n",
       "[100 rows x 3 columns]"
      ]
     },
     "execution_count": 5,
     "metadata": {},
     "output_type": "execute_result"
    }
   ],
   "source": [
    "data2 = data2.drop('Unnamed: 0', axis=1)\n",
    "data2"
   ]
  },
  {
   "cell_type": "code",
   "execution_count": 6,
   "id": "a5b0a60f",
   "metadata": {},
   "outputs": [
    {
     "data": {
      "image/png": "[encoded data removed]",
      "text/plain": [
       "<Figure size 432x288 with 1 Axes>"
      ]
     },
     "metadata": {
      "needs_background": "light"
     },
     "output_type": "display_data"
    }
   ],
   "source": [
    "data1.plot.scatter(x='X', y='y')\n",
    "plt.show()"
   ]
  },
  {
   "cell_type": "code",
   "execution_count": 7,
   "id": "c8526602",
   "metadata": {},
   "outputs": [
    {
     "data": {
      "text/plain": [
       "((100, 1), (100, 1))"
      ]
     },
     "execution_count": 7,
     "metadata": {},
     "output_type": "execute_result"
    }
   ],
   "source": [
    "X = np.array(data1['X']).reshape(-1,1)\n",
    "y = np.array(data1['y']).reshape(-1,1)\n",
    "X.shape, y.shape"
   ]
  },
  {
   "cell_type": "code",
   "execution_count": 8,
   "id": "1a02d736",
   "metadata": {},
   "outputs": [
    {
     "data": {
      "text/plain": [
       "array([[ 1., 50.],\n",
       "       [ 1., 82.],\n",
       "       [ 1., 66.],\n",
       "       [ 1., 35.],\n",
       "       [ 1., 81.],\n",
       "       [ 1., 57.],\n",
       "       [ 1., 70.],\n",
       "       [ 1., 73.],\n",
       "       [ 1., 52.],\n",
       "       [ 1., 57.]])"
      ]
     },
     "execution_count": 8,
     "metadata": {},
     "output_type": "execute_result"
    }
   ],
   "source": [
    "from numpy.linalg import inv\n",
    "\n",
    "const = np.ones(shape=y.shape)\n",
    "mat = np.concatenate( (const, X), axis=1)\n",
    "\n",
    "# first 10 examples\n",
    "mat[:10,:]"
   ]
  },
  {
   "cell_type": "code",
   "execution_count": 9,
   "id": "96678a48",
   "metadata": {},
   "outputs": [
    {
     "name": "stdout",
     "output_type": "stream",
     "text": [
      "Beta 0: -1.789\n",
      "Beta 1: 3.005\n"
     ]
    }
   ],
   "source": [
    "betas = inv(mat.transpose().dot(mat)).dot(mat.transpose()).dot(y)\n",
    "b0, b1 = betas\n",
    "\n",
    "print(f'Beta 0: {np.round(b0[0],3)}')\n",
    "print(f'Beta 1: {np.round(b1[0],3)}')"
   ]
  },
  {
   "cell_type": "code",
   "execution_count": 10,
   "id": "1670e697",
   "metadata": {},
   "outputs": [
    {
     "data": {
      "image/png": "[encoded data removed]",
      "text/plain": [
       "<Figure size 432x288 with 1 Axes>"
      ]
     },
     "metadata": {
      "needs_background": "light"
     },
     "output_type": "display_data"
    }
   ],
   "source": [
    "yhat = mat.dot(betas)\n",
    "\n",
    "plt.plot(X, y, 'bo')\n",
    "plt.plot(X, yhat, 'r')\n",
    "plt.xlabel('X values')\n",
    "plt.ylabel('y values')\n",
    "plt.title('data', loc='left')\n",
    "plt.show()"
   ]
  },
  {
   "cell_type": "markdown",
   "id": "b3bc4fa9",
   "metadata": {},
   "source": [
    "# evaluating residual plots for data1"
   ]
  },
  {
   "cell_type": "code",
   "execution_count": 11,
   "id": "1ae19b7d",
   "metadata": {},
   "outputs": [
    {
     "data": {
      "text/plain": [
       "array([[ -1.48276912],\n",
       "       [  1.34335352],\n",
       "       [ 10.4302922 ],\n",
       "       [  1.59873589],\n",
       "       [ -1.65121281],\n",
       "       [ 10.47919521],\n",
       "       [-10.59144247],\n",
       "       [ 13.39225653],\n",
       "       [ 10.50636355],\n",
       "       [  4.47919521],\n",
       "       [ -7.43386611],\n",
       "       [ -7.40126411],\n",
       "       [-13.3849631 ],\n",
       "       [ -4.58057513],\n",
       "       [ -4.21651941],\n",
       "       [-13.23282041],\n",
       "       [  4.53353188],\n",
       "       [ -7.56427413],\n",
       "       [ 13.56070022],\n",
       "       [ -1.67838115],\n",
       "       [ 13.78348059],\n",
       "       [ 10.58243489],\n",
       "       [ 13.74001125],\n",
       "       [  4.4465932 ],\n",
       "       [-10.48820279],\n",
       "       [-13.22195308],\n",
       "       [ -1.23825408],\n",
       "       [  7.33248618],\n",
       "       [  1.4302922 ],\n",
       "       [ -4.46103445],\n",
       "       [-10.49363645],\n",
       "       [ -1.48820279],\n",
       "       [ -4.44473345],\n",
       "       [ 13.50636355],\n",
       "       [ -4.73271783],\n",
       "       [  4.63677157],\n",
       "       [  1.49549621],\n",
       "       [  7.53353188],\n",
       "       [ -7.53710579],\n",
       "       [-10.23825408],\n",
       "       [  4.41942487],\n",
       "       [ -4.50450379],\n",
       "       [ -7.39039677],\n",
       "       [ -7.68381482],\n",
       "       [ -7.66751382],\n",
       "       [ -7.24912141],\n",
       "       [  4.6313379 ],\n",
       "       [-13.48820279],\n",
       "       [ -7.46646812],\n",
       "       [ -1.54253946],\n",
       "       [ 10.35422085],\n",
       "       [  1.72914392],\n",
       "       [ 13.37595552],\n",
       "       [  7.62047056],\n",
       "       [ 10.40855753],\n",
       "       [  7.70197558],\n",
       "       [ -1.53167213],\n",
       "       [ 10.68024091],\n",
       "       [  1.58243489],\n",
       "       [ 10.28358318],\n",
       "       [ -7.52623846],\n",
       "       [ -4.71641682],\n",
       "       [ -4.31432542],\n",
       "       [ -4.47190178],\n",
       "       [-10.62947814],\n",
       "       [ -4.55884046],\n",
       "       [  7.74001125],\n",
       "       [ 10.57700122],\n",
       "       [ -1.5860088 ],\n",
       "       [-13.57514147],\n",
       "       [-10.31975909],\n",
       "       [  7.45202687],\n",
       "       [  1.78348059],\n",
       "       [  7.70740925],\n",
       "       [-10.26542242],\n",
       "       [ -4.39039677],\n",
       "       [  4.65850624],\n",
       "       [-13.50450379],\n",
       "       [ -7.46646812],\n",
       "       [ 13.59873589],\n",
       "       [ -4.64577915],\n",
       "       [  1.69110824],\n",
       "       [  1.54439922],\n",
       "       [  7.29988418],\n",
       "       [-13.5860088 ],\n",
       "       [ 10.55526655],\n",
       "       [  1.6150369 ],\n",
       "       [  1.74544492],\n",
       "       [  4.31075151],\n",
       "       [ 13.62590423],\n",
       "       [ -1.24912141],\n",
       "       [ -4.49363645],\n",
       "       [  1.30531785],\n",
       "       [ -4.3849631 ],\n",
       "       [  4.46289421],\n",
       "       [ -7.74358516],\n",
       "       [ -7.25998875],\n",
       "       [  7.48462888],\n",
       "       [ 10.51723088],\n",
       "       [-10.49907012]])"
      ]
     },
     "execution_count": 11,
     "metadata": {},
     "output_type": "execute_result"
    }
   ],
   "source": [
    "residual = y - yhat\n",
    "residual"
   ]
  },
  {
   "cell_type": "code",
   "execution_count": 12,
   "id": "b03198ab",
   "metadata": {},
   "outputs": [
    {
     "data": {
      "image/png": "[encoded data removed]",
      "text/plain": [
       "<Figure size 360x360 with 1 Axes>"
      ]
     },
     "metadata": {
      "needs_background": "light"
     },
     "output_type": "display_data"
    }
   ],
   "source": [
    "plt.figure(figsize=(5,5))\n",
    "plt.plot(y, yhat, 'ro')\n",
    "plt.xlabel('Actual')\n",
    "plt.ylabel('Predicted')\n",
    "plt.title('Actual vs. Predicted')\n",
    "plt.show()"
   ]
  },
  {
   "cell_type": "code",
   "execution_count": 13,
   "id": "d06e37f8",
   "metadata": {},
   "outputs": [
    {
     "data": {
      "image/png": "[encoded data removed]",
      "text/plain": [
       "<Figure size 360x360 with 1 Axes>"
      ]
     },
     "metadata": {
      "needs_background": "light"
     },
     "output_type": "display_data"
    }
   ],
   "source": [
    "plt.figure(figsize=(5,5))\n",
    "plt.plot(yhat, residual, 'ro')\n",
    "plt.xlabel('Predicted')\n",
    "plt.ylabel('Residuals')\n",
    "plt.title('Predicted vs. Residuals')\n",
    "plt.show()"
   ]
  },
  {
   "cell_type": "code",
   "execution_count": 14,
   "id": "789673cb",
   "metadata": {},
   "outputs": [
    {
     "name": "stdout",
     "output_type": "stream",
     "text": [
      "                            OLS Regression Results                            \n",
      "==============================================================================\n",
      "Dep. Variable:                      y   R-squared:                       0.989\n",
      "Model:                            OLS   Adj. R-squared:                  0.989\n",
      "Method:                 Least Squares   F-statistic:                     9151.\n",
      "Date:                Tue, 28 Feb 2023   Prob (F-statistic):           1.37e-98\n",
      "Time:                        20:55:48   Log-Likelihood:                -351.20\n",
      "No. Observations:                 100   AIC:                             706.4\n",
      "Df Residuals:                      98   BIC:                             711.6\n",
      "Df Model:                           1                                         \n",
      "Covariance Type:            nonrobust                                         \n",
      "==============================================================================\n",
      "                 coef    std err          t      P>|t|      [0.025      0.975]\n",
      "------------------------------------------------------------------------------\n",
      "const         -1.7889      1.707     -1.048      0.297      -5.175       1.598\n",
      "x1             3.0054      0.031     95.662      0.000       2.943       3.068\n",
      "==============================================================================\n",
      "Omnibus:                       24.941   Durbin-Watson:                   1.795\n",
      "Prob(Omnibus):                  0.000   Jarque-Bera (JB):                5.473\n",
      "Skew:                           0.086   Prob(JB):                       0.0648\n",
      "Kurtosis:                       1.867   Cond. No.                         113.\n",
      "==============================================================================\n",
      "\n",
      "Notes:\n",
      "[1] Standard Errors assume that the covariance matrix of the errors is correctly specified.\n"
     ]
    }
   ],
   "source": [
    "simpleModel = smf.OLS(y, mat).fit()\n",
    "print(simpleModel.summary())"
   ]
  },
  {
   "cell_type": "markdown",
   "id": "e603869a",
   "metadata": {},
   "source": [
    "# for data2"
   ]
  },
  {
   "cell_type": "code",
   "execution_count": 15,
   "id": "b95d6fac",
   "metadata": {},
   "outputs": [
    {
     "data": {
      "image/png": "[encoded data removed]",
      "text/plain": [
       "<Figure size 432x288 with 1 Axes>"
      ]
     },
     "metadata": {
      "needs_background": "light"
     },
     "output_type": "display_data"
    }
   ],
   "source": [
    "data2.plot.scatter(x='X1', y='y')\n",
    "plt.show()"
   ]
  },
  {
   "cell_type": "code",
   "execution_count": 16,
   "id": "c9496c23",
   "metadata": {},
   "outputs": [
    {
     "data": {
      "text/plain": [
       "((100, 1), (100, 1))"
      ]
     },
     "execution_count": 16,
     "metadata": {},
     "output_type": "execute_result"
    }
   ],
   "source": [
    "X = np.array(data2['X1']).reshape(-1,1)\n",
    "y = np.array(data2['y']).reshape(-1,1)\n",
    "X.shape, y.shape"
   ]
  },
  {
   "cell_type": "code",
   "execution_count": 17,
   "id": "932dee7b",
   "metadata": {},
   "outputs": [
    {
     "data": {
      "text/plain": [
       "array([[ 1., 50.],\n",
       "       [ 1., 82.],\n",
       "       [ 1., 66.],\n",
       "       [ 1., 35.],\n",
       "       [ 1., 81.],\n",
       "       [ 1., 57.],\n",
       "       [ 1., 70.],\n",
       "       [ 1., 73.],\n",
       "       [ 1., 52.],\n",
       "       [ 1., 57.]])"
      ]
     },
     "execution_count": 17,
     "metadata": {},
     "output_type": "execute_result"
    }
   ],
   "source": [
    "from numpy.linalg import inv\n",
    "\n",
    "const = np.ones(shape=y.shape)\n",
    "mat = np.concatenate( (const, X), axis=1)\n",
    "\n",
    "# first 10 examples\n",
    "mat[:10,:]"
   ]
  },
  {
   "cell_type": "code",
   "execution_count": 18,
   "id": "cbc49d73",
   "metadata": {},
   "outputs": [
    {
     "name": "stdout",
     "output_type": "stream",
     "text": [
      "Beta 0: -942.689\n",
      "Beta 1: 92.405\n"
     ]
    }
   ],
   "source": [
    "betas = inv(mat.transpose().dot(mat)).dot(mat.transpose()).dot(y)\n",
    "b0, b1 = betas\n",
    "\n",
    "print(f'Beta 0: {np.round(b0[0],3)}')\n",
    "print(f'Beta 1: {np.round(b1[0],3)}')"
   ]
  },
  {
   "cell_type": "code",
   "execution_count": 19,
   "id": "2dd9435b",
   "metadata": {},
   "outputs": [
    {
     "data": {
      "image/png": "[encoded data removed]",
      "text/plain": [
       "<Figure size 432x288 with 1 Axes>"
      ]
     },
     "metadata": {
      "needs_background": "light"
     },
     "output_type": "display_data"
    }
   ],
   "source": [
    "yhat = mat.dot(betas)\n",
    "\n",
    "plt.plot(X, y, 'bo')\n",
    "plt.plot(X, yhat, 'r')\n",
    "plt.xlabel('X values')\n",
    "plt.ylabel('y values')\n",
    "plt.title('data', loc='left')\n",
    "plt.show()"
   ]
  },
  {
   "cell_type": "code",
   "execution_count": 20,
   "id": "6b842257",
   "metadata": {},
   "outputs": [
    {
     "data": {
      "text/plain": [
       "array([[-1167.57229043],\n",
       "       [  103.46035055],\n",
       "       [ -801.05596994],\n",
       "       [  -66.49384089],\n",
       "       [ 1017.86558052],\n",
       "       [-1070.40890021],\n",
       "       [ -613.67688982],\n",
       "       [ -486.89257972],\n",
       "       [ -167.38275037],\n",
       "       [  -70.40890021],\n",
       "       [ -157.9252207 ],\n",
       "       [-1063.49384089],\n",
       "       [ -993.27815098],\n",
       "       [  293.13357012],\n",
       "       [ 1839.28397807],\n",
       "       [ 1582.06828816],\n",
       "       [-1196.35660052],\n",
       "       [  158.34926003],\n",
       "       [-1176.33045067],\n",
       "       [ 1397.83943067],\n",
       "       [  837.28397807],\n",
       "       [ -118.7095308 ],\n",
       "       [  202.04213832],\n",
       "       [ -923.84028003],\n",
       "       [ -183.9775204 ],\n",
       "       [  765.8787481 ],\n",
       "       [ 1515.66305819],\n",
       "       [  224.64989061],\n",
       "       [  196.94403006],\n",
       "       [-1206.95137055],\n",
       "       [-1159.38275037],\n",
       "       [ -170.9775204 ],\n",
       "       [ -196.73568064],\n",
       "       [-1151.38275037],\n",
       "       [ 2289.78713098],\n",
       "       [ -867.6572311 ],\n",
       "       [-1130.19321031],\n",
       "       [-1180.35660052],\n",
       "       [ -994.62459012],\n",
       "       [ 1510.66305819],\n",
       "       [  288.13357012],\n",
       "       [ -130.19321031],\n",
       "       [-1014.68338095],\n",
       "       [ 1462.43420071],\n",
       "       [ 1249.64989061],\n",
       "       [ 1342.85259825],\n",
       "       [ -899.06246107],\n",
       "       [-1176.9775204 ],\n",
       "       [ -187.35660052],\n",
       "       [ -971.02982009],\n",
       "       [  953.27081049],\n",
       "       [ 1047.23167838],\n",
       "       [  680.89173037],\n",
       "       [ -949.87292101],\n",
       "       [  366.32311018],\n",
       "       [ -267.79447147],\n",
       "       [  -35.21936015],\n",
       "       [ -501.41539135],\n",
       "       [-1125.7095308 ],\n",
       "       [ 1002.00282089],\n",
       "       [-1059.81413018],\n",
       "       [ 1993.00282089],\n",
       "       [ -450.01016138],\n",
       "       [ -199.76183049],\n",
       "       [ -248.5134996 ],\n",
       "       [  124.75449   ],\n",
       "       [ 1180.04213832],\n",
       "       [ -126.11476076],\n",
       "       [  316.72834015],\n",
       "       [ -761.46119991],\n",
       "       [ -499.41539135],\n",
       "       [   55.56494994],\n",
       "       [  840.28397807],\n",
       "       [  773.6107585 ],\n",
       "       [ 1124.63690835],\n",
       "       [-1010.68338095],\n",
       "       [  311.96368878],\n",
       "       [-1127.19321031],\n",
       "       [-1195.35660052],\n",
       "       [-1077.49384089],\n",
       "       [  -48.72918951],\n",
       "       [  590.39506859],\n",
       "       [-1195.54614058],\n",
       "       [ 1739.2185108 ],\n",
       "       [  327.72834015],\n",
       "       [ -182.73568064],\n",
       "       [   18.72184902],\n",
       "       [ 1280.44736829],\n",
       "       [  552.02897074],\n",
       "       [   74.53230896],\n",
       "       [ 1355.85259825],\n",
       "       [-1163.38275037],\n",
       "       [  653.62374077],\n",
       "       [ -994.27815098],\n",
       "       [    4.37540988],\n",
       "       [ 1501.97667104],\n",
       "       [ 1177.04213832],\n",
       "       [  -93.00367024],\n",
       "       [-1175.57229043],\n",
       "       [ -139.78798034]])"
      ]
     },
     "execution_count": 20,
     "metadata": {},
     "output_type": "execute_result"
    }
   ],
   "source": [
    "residual = y - yhat\n",
    "residual"
   ]
  },
  {
   "cell_type": "code",
   "execution_count": 21,
   "id": "f8cd17dc",
   "metadata": {},
   "outputs": [
    {
     "data": {
      "image/png": "[encoded data removed]",
      "text/plain": [
       "<Figure size 360x360 with 1 Axes>"
      ]
     },
     "metadata": {
      "needs_background": "light"
     },
     "output_type": "display_data"
    }
   ],
   "source": [
    "plt.figure(figsize=(5,5))\n",
    "plt.plot(y, yhat, 'ro')\n",
    "plt.xlabel('Actual')\n",
    "plt.ylabel('Predicted')\n",
    "plt.title('Actual vs. Predicted')\n",
    "plt.show()"
   ]
  },
  {
   "cell_type": "code",
   "execution_count": 22,
   "id": "6ac29ec6",
   "metadata": {},
   "outputs": [
    {
     "data": {
      "image/png": "[encoded data removed]",
      "text/plain": [
       "<Figure size 360x360 with 1 Axes>"
      ]
     },
     "metadata": {
      "needs_background": "light"
     },
     "output_type": "display_data"
    }
   ],
   "source": [
    "plt.figure(figsize=(5,5))\n",
    "plt.plot(yhat, residual, 'bo')\n",
    "plt.xlabel('Predicted')\n",
    "plt.ylabel('Residuals')\n",
    "plt.title('Predicted vs. Residuals')\n",
    "plt.show()"
   ]
  },
  {
   "cell_type": "code",
   "execution_count": 38,
   "id": "a74055d4",
   "metadata": {},
   "outputs": [
    {
     "name": "stdout",
     "output_type": "stream",
     "text": [
      "                            OLS Regression Results                            \n",
      "==============================================================================\n",
      "Dep. Variable:                      y   R-squared:                       0.871\n",
      "Model:                            OLS   Adj. R-squared:                  0.869\n",
      "Method:                 Least Squares   F-statistic:                     659.5\n",
      "Date:                Tue, 28 Feb 2023   Prob (F-statistic):           2.60e-45\n",
      "Time:                        20:56:39   Log-Likelihood:                -825.29\n",
      "No. Observations:                 100   AIC:                             1655.\n",
      "Df Residuals:                      98   BIC:                             1660.\n",
      "Df Model:                           1                                         \n",
      "Covariance Type:            nonrobust                                         \n",
      "==============================================================================\n",
      "                 coef    std err          t      P>|t|      [0.025      0.975]\n",
      "------------------------------------------------------------------------------\n",
      "const       -942.6892    195.449     -4.823      0.000   -1330.551    -554.827\n",
      "x1            92.4052      3.598     25.681      0.000      85.265      99.546\n",
      "==============================================================================\n",
      "Omnibus:                        9.950   Durbin-Watson:                   1.992\n",
      "Prob(Omnibus):                  0.007   Jarque-Bera (JB):                5.763\n",
      "Skew:                           0.412   Prob(JB):                       0.0561\n",
      "Kurtosis:                       2.161   Cond. No.                         113.\n",
      "==============================================================================\n",
      "\n",
      "Notes:\n",
      "[1] Standard Errors assume that the covariance matrix of the errors is correctly specified.\n"
     ]
    }
   ],
   "source": [
    "simpleModel = smf.OLS(y, mat).fit()\n",
    "print(simpleModel.summary())"
   ]
  },
  {
   "cell_type": "markdown",
   "id": "45ec8f77",
   "metadata": {},
   "source": [
    "# splitting the data into Training and test"
   ]
  },
  {
   "cell_type": "code",
   "execution_count": 23,
   "id": "53a0f483",
   "metadata": {},
   "outputs": [],
   "source": [
    "#splitting the data2 dataset into 2 separate datasets X and y\n",
    "X=data2.drop(columns='X2',axis=1)\n",
    "y=data2['y']"
   ]
  },
  {
   "cell_type": "code",
   "execution_count": 24,
   "id": "591581ee",
   "metadata": {},
   "outputs": [
    {
     "name": "stdout",
     "output_type": "stream",
     "text": [
      "Training samples: 80\n",
      "Test samples: 20\n"
     ]
    }
   ],
   "source": [
    "#splitting the dataset into train and test \n",
    "from sklearn.model_selection import train_test_split\n",
    "\n",
    "X_training, X_test, y_training, y_test = train_test_split(X, y, test_size=0.20)\n",
    "\n",
    "print(f'Training samples: {X_training.shape[0]:,}')\n",
    "print(f'Test samples: {X_test.shape[0]:,}')"
   ]
  },
  {
   "cell_type": "code",
   "execution_count": 25,
   "id": "fdbe862b",
   "metadata": {},
   "outputs": [
    {
     "data": {
      "text/html": [
       "<div>\n",
       "<style scoped>\n",
       "    .dataframe tbody tr th:only-of-type {\n",
       "        vertical-align: middle;\n",
       "    }\n",
       "\n",
       "    .dataframe tbody tr th {\n",
       "        vertical-align: top;\n",
       "    }\n",
       "\n",
       "    .dataframe thead th {\n",
       "        text-align: right;\n",
       "    }\n",
       "</style>\n",
       "<table border=\"1\" class=\"dataframe\">\n",
       "  <thead>\n",
       "    <tr style=\"text-align: right;\">\n",
       "      <th></th>\n",
       "      <th>X1</th>\n",
       "      <th>y</th>\n",
       "    </tr>\n",
       "  </thead>\n",
       "  <tbody>\n",
       "    <tr>\n",
       "      <th>4</th>\n",
       "      <td>81</td>\n",
       "      <td>7560</td>\n",
       "    </tr>\n",
       "    <tr>\n",
       "      <th>79</th>\n",
       "      <td>35</td>\n",
       "      <td>1214</td>\n",
       "    </tr>\n",
       "    <tr>\n",
       "      <th>96</th>\n",
       "      <td>9</td>\n",
       "      <td>1066</td>\n",
       "    </tr>\n",
       "    <tr>\n",
       "      <th>9</th>\n",
       "      <td>57</td>\n",
       "      <td>4254</td>\n",
       "    </tr>\n",
       "    <tr>\n",
       "      <th>7</th>\n",
       "      <td>73</td>\n",
       "      <td>5316</td>\n",
       "    </tr>\n",
       "    <tr>\n",
       "      <th>...</th>\n",
       "      <td>...</td>\n",
       "      <td>...</td>\n",
       "    </tr>\n",
       "    <tr>\n",
       "      <th>95</th>\n",
       "      <td>98</td>\n",
       "      <td>9615</td>\n",
       "    </tr>\n",
       "    <tr>\n",
       "      <th>63</th>\n",
       "      <td>48</td>\n",
       "      <td>3293</td>\n",
       "    </tr>\n",
       "    <tr>\n",
       "      <th>29</th>\n",
       "      <td>46</td>\n",
       "      <td>2101</td>\n",
       "    </tr>\n",
       "    <tr>\n",
       "      <th>85</th>\n",
       "      <td>43</td>\n",
       "      <td>2848</td>\n",
       "    </tr>\n",
       "    <tr>\n",
       "      <th>61</th>\n",
       "      <td>93</td>\n",
       "      <td>9644</td>\n",
       "    </tr>\n",
       "  </tbody>\n",
       "</table>\n",
       "<p>80 rows × 2 columns</p>\n",
       "</div>"
      ],
      "text/plain": [
       "    X1     y\n",
       "4   81  7560\n",
       "79  35  1214\n",
       "96   9  1066\n",
       "9   57  4254\n",
       "7   73  5316\n",
       "..  ..   ...\n",
       "95  98  9615\n",
       "63  48  3293\n",
       "29  46  2101\n",
       "85  43  2848\n",
       "61  93  9644\n",
       "\n",
       "[80 rows x 2 columns]"
      ]
     },
     "execution_count": 25,
     "metadata": {},
     "output_type": "execute_result"
    }
   ],
   "source": [
    "#prints the X_training\n",
    "X_training"
   ]
  },
  {
   "cell_type": "code",
   "execution_count": 26,
   "id": "e9d406c5",
   "metadata": {},
   "outputs": [
    {
     "data": {
      "text/plain": [
       "4     7560\n",
       "79    1214\n",
       "96    1066\n",
       "9     4254\n",
       "7     5316\n",
       "      ... \n",
       "95    9615\n",
       "63    3293\n",
       "29    2101\n",
       "85    2848\n",
       "61    9644\n",
       "Name: y, Length: 80, dtype: int64"
      ]
     },
     "execution_count": 26,
     "metadata": {},
     "output_type": "execute_result"
    }
   ],
   "source": [
    "#prints the y_training\n",
    "y_training"
   ]
  },
  {
   "cell_type": "code",
   "execution_count": 27,
   "id": "2f49c100",
   "metadata": {},
   "outputs": [
    {
     "data": {
      "text/plain": [
       "(80, 2)"
      ]
     },
     "execution_count": 27,
     "metadata": {},
     "output_type": "execute_result"
    }
   ],
   "source": [
    "#prints the shape of X_training\n",
    "X_training.shape"
   ]
  },
  {
   "cell_type": "code",
   "execution_count": 28,
   "id": "73f594fe",
   "metadata": {},
   "outputs": [
    {
     "name": "stdout",
     "output_type": "stream",
     "text": [
      "<class 'pandas.core.frame.DataFrame'>\n",
      "Int64Index: 80 entries, 4 to 61\n",
      "Data columns (total 2 columns):\n",
      " #   Column  Non-Null Count  Dtype\n",
      "---  ------  --------------  -----\n",
      " 0   X1      80 non-null     int64\n",
      " 1   y       80 non-null     int64\n",
      "dtypes: int64(2)\n",
      "memory usage: 1.9 KB\n"
     ]
    }
   ],
   "source": [
    "#prints the info() of X_training\n",
    "X_training.info()"
   ]
  },
  {
   "cell_type": "code",
   "execution_count": 29,
   "id": "a5419b18",
   "metadata": {},
   "outputs": [
    {
     "data": {
      "text/plain": [
       "4     7560\n",
       "79    1214\n",
       "96    1066\n",
       "9     4254\n",
       "7     5316\n",
       "      ... \n",
       "95    9615\n",
       "63    3293\n",
       "29    2101\n",
       "85    2848\n",
       "61    9644\n",
       "Name: y, Length: 80, dtype: int64"
      ]
     },
     "execution_count": 29,
     "metadata": {},
     "output_type": "execute_result"
    }
   ],
   "source": [
    "#prints y_training\n",
    "y_training"
   ]
  },
  {
   "cell_type": "code",
   "execution_count": 30,
   "id": "ab79bd3d",
   "metadata": {},
   "outputs": [
    {
     "data": {
      "text/plain": [
       "X1    0\n",
       "X2    0\n",
       "y     0\n",
       "dtype: int64"
      ]
     },
     "execution_count": 30,
     "metadata": {},
     "output_type": "execute_result"
    }
   ],
   "source": [
    "# prints count of null values in data2 \n",
    "data2.isnull().sum()"
   ]
  },
  {
   "cell_type": "code",
   "execution_count": 31,
   "id": "bb126c50",
   "metadata": {},
   "outputs": [],
   "source": [
    "# imports all  the packages required to perform linear regression\n",
    "from sklearn.pipeline import Pipeline\n",
    "from sklearn.compose import ColumnTransformer\n",
    "from sklearn.impute import SimpleImputer\n",
    "from sklearn.preprocessing import OneHotEncoder\n",
    "from sklearn.preprocessing import StandardScaler"
   ]
  },
  {
   "cell_type": "code",
   "execution_count": 32,
   "id": "a55c1cd1",
   "metadata": {},
   "outputs": [],
   "source": [
    "#import LinearRegression \n",
    "from sklearn.linear_model import LinearRegression"
   ]
  },
  {
   "cell_type": "code",
   "execution_count": 33,
   "id": "57245bf9",
   "metadata": {},
   "outputs": [
    {
     "data": {
      "text/plain": [
       "LinearRegression()"
      ]
     },
     "execution_count": 33,
     "metadata": {},
     "output_type": "execute_result"
    }
   ],
   "source": [
    "#code to perform linear regression model \n",
    "model = LinearRegression()\n",
    "model.fit(X_training,y_training)"
   ]
  },
  {
   "cell_type": "code",
   "execution_count": 34,
   "id": "6fea94ff",
   "metadata": {},
   "outputs": [
    {
     "name": "stdout",
     "output_type": "stream",
     "text": [
      "coefficient of determination: 1.0\n"
     ]
    }
   ],
   "source": [
    "#prints r_sq\n",
    "r_sq = model.score(X_test,y_test)\n",
    "print(f\"coefficient of determination: {r_sq}\")"
   ]
  },
  {
   "cell_type": "code",
   "execution_count": 35,
   "id": "7b3f18b8",
   "metadata": {},
   "outputs": [
    {
     "name": "stdout",
     "output_type": "stream",
     "text": [
      "intercept: 4.547473508864641e-13\n"
     ]
    }
   ],
   "source": [
    "#prints intercept\n",
    "print(f\"intercept: {model.intercept_}\")"
   ]
  },
  {
   "cell_type": "code",
   "execution_count": 36,
   "id": "6c5471f4",
   "metadata": {},
   "outputs": [
    {
     "name": "stdout",
     "output_type": "stream",
     "text": [
      "slope: [1.20346424e-14 1.00000000e+00]\n"
     ]
    }
   ],
   "source": [
    "#prints slope\n",
    "print(f\"slope: {model.coef_}\")"
   ]
  },
  {
   "cell_type": "code",
   "execution_count": 37,
   "id": "72680b0d",
   "metadata": {},
   "outputs": [
    {
     "data": {
      "image/png": "[encoded data removed]",
      "text/plain": [
       "<Figure size 432x288 with 1 Axes>"
      ]
     },
     "metadata": {
      "needs_background": "light"
     },
     "output_type": "display_data"
    }
   ],
   "source": [
    "#plot shows the graph between the residual and predicted\n",
    "predictions = model.predict(X_test)\n",
    "plt.plot(predictions, predictions- y_test, 'ro')\n",
    "plt.ylabel('Residual')\n",
    "plt.xlabel('Predicted')\n",
    "plt.show()"
   ]
  },
  {
   "cell_type": "markdown",
   "id": "49ee3647",
   "metadata": {},
   "source": [
    "# FINDINGS:\n",
    "\n",
    "R2 is a measure that provides information about the goodness of fit of a model. In the context of regression it is a statistical measure of how well the regression line approximates the actual data.\n",
    "\n",
    "1.For the above data,model fits very well which results in a R2 value of 1.\n",
    "\n",
    "2.we can find only few negative residual values which has very minute differences in range of le-12.\n",
    "\n",
    "3.The above linear regression model made predictions very accurate in comparison to the actual values."
   ]
  },
  {
   "cell_type": "code",
   "execution_count": null,
   "id": "0fb0cc4b",
   "metadata": {},
   "outputs": [],
   "source": []
  }
 ],
 "metadata": {
  "colab": {
   "provenance": []
  },
  "kernelspec": {
   "display_name": "Python 3 (ipykernel)",
   "language": "python",
   "name": "python3"
  },
  "language_info": {
   "codemirror_mode": {
    "name": "ipython",
    "version": 3
   },
   "file_extension": ".py",
   "mimetype": "text/x-python",
   "name": "python",
   "nbconvert_exporter": "python",
   "pygments_lexer": "ipython3",
   "version": "3.9.12"
  },
  "toc": {
   "base_numbering": 1,
   "nav_menu": {},
   "number_sections": false,
   "sideBar": true,
   "skip_h1_title": false,
   "title_cell": "Table of Contents",
   "title_sidebar": "Contents",
   "toc_cell": false,
   "toc_position": {},
   "toc_section_display": true,
   "toc_window_display": false
  }
 },
 "nbformat": 4,
 "nbformat_minor": 5
}
