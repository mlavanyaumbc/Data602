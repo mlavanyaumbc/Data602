{
 "cells": [
  {
   "cell_type": "markdown",
   "metadata": {
    "id": "smug-eLvfQ__"
   },
   "source": [
    "# Homework 4\n",
    "\n",
    "- Execute the below code, then answer the numbered questions."
   ]
  },
  {
   "cell_type": "code",
   "execution_count": 1,
   "metadata": {
    "id": "Gz6HeEQxfRAC",
    "outputId": "902be812-bdde-4b02-e3b3-e3a7ac2cd7da"
   },
   "outputs": [
    {
     "data": {
      "text/html": [
       "<div>\n",
       "<style scoped>\n",
       "    .dataframe tbody tr th:only-of-type {\n",
       "        vertical-align: middle;\n",
       "    }\n",
       "\n",
       "    .dataframe tbody tr th {\n",
       "        vertical-align: top;\n",
       "    }\n",
       "\n",
       "    .dataframe thead th {\n",
       "        text-align: right;\n",
       "    }\n",
       "</style>\n",
       "<table border=\"1\" class=\"dataframe\">\n",
       "  <thead>\n",
       "    <tr style=\"text-align: right;\">\n",
       "      <th></th>\n",
       "      <th>make</th>\n",
       "      <th>transmission</th>\n",
       "      <th>state</th>\n",
       "      <th>condition</th>\n",
       "      <th>odometer</th>\n",
       "      <th>auction_value</th>\n",
       "      <th>selling_price</th>\n",
       "    </tr>\n",
       "  </thead>\n",
       "  <tbody>\n",
       "    <tr>\n",
       "      <th>0</th>\n",
       "      <td>nissan</td>\n",
       "      <td>automatic</td>\n",
       "      <td>md</td>\n",
       "      <td>4.8</td>\n",
       "      <td>NaN</td>\n",
       "      <td>14350.0</td>\n",
       "      <td>13600.0</td>\n",
       "    </tr>\n",
       "    <tr>\n",
       "      <th>1</th>\n",
       "      <td>ford</td>\n",
       "      <td>automatic</td>\n",
       "      <td>mo</td>\n",
       "      <td>3.7</td>\n",
       "      <td>29398.0</td>\n",
       "      <td>17600.0</td>\n",
       "      <td>17100.0</td>\n",
       "    </tr>\n",
       "    <tr>\n",
       "      <th>2</th>\n",
       "      <td>ford</td>\n",
       "      <td>automatic</td>\n",
       "      <td>fl</td>\n",
       "      <td>3.2</td>\n",
       "      <td>32180.0</td>\n",
       "      <td>19100.0</td>\n",
       "      <td>17600.0</td>\n",
       "    </tr>\n",
       "    <tr>\n",
       "      <th>3</th>\n",
       "      <td>nissan</td>\n",
       "      <td>automatic</td>\n",
       "      <td>ca</td>\n",
       "      <td>NaN</td>\n",
       "      <td>30798.0</td>\n",
       "      <td>11950.0</td>\n",
       "      <td>10700.0</td>\n",
       "    </tr>\n",
       "    <tr>\n",
       "      <th>4</th>\n",
       "      <td>ford</td>\n",
       "      <td>automatic</td>\n",
       "      <td>nj</td>\n",
       "      <td>2.8</td>\n",
       "      <td>29526.0</td>\n",
       "      <td>28000.0</td>\n",
       "      <td>26100.0</td>\n",
       "    </tr>\n",
       "    <tr>\n",
       "      <th>...</th>\n",
       "      <td>...</td>\n",
       "      <td>...</td>\n",
       "      <td>...</td>\n",
       "      <td>...</td>\n",
       "      <td>...</td>\n",
       "      <td>...</td>\n",
       "      <td>...</td>\n",
       "    </tr>\n",
       "    <tr>\n",
       "      <th>9050</th>\n",
       "      <td>NaN</td>\n",
       "      <td>automatic</td>\n",
       "      <td>il</td>\n",
       "      <td>4.2</td>\n",
       "      <td>41186.0</td>\n",
       "      <td>NaN</td>\n",
       "      <td>11600.0</td>\n",
       "    </tr>\n",
       "    <tr>\n",
       "      <th>9051</th>\n",
       "      <td>ford</td>\n",
       "      <td>automatic</td>\n",
       "      <td>fl</td>\n",
       "      <td>NaN</td>\n",
       "      <td>38810.0</td>\n",
       "      <td>16250.0</td>\n",
       "      <td>17300.0</td>\n",
       "    </tr>\n",
       "    <tr>\n",
       "      <th>9052</th>\n",
       "      <td>nissan</td>\n",
       "      <td>NaN</td>\n",
       "      <td>ga</td>\n",
       "      <td>4.7</td>\n",
       "      <td>4551.0</td>\n",
       "      <td>12500.0</td>\n",
       "      <td>13800.0</td>\n",
       "    </tr>\n",
       "    <tr>\n",
       "      <th>9053</th>\n",
       "      <td>ford</td>\n",
       "      <td>automatic</td>\n",
       "      <td>il</td>\n",
       "      <td>4.6</td>\n",
       "      <td>33114.0</td>\n",
       "      <td>21800.0</td>\n",
       "      <td>27000.0</td>\n",
       "    </tr>\n",
       "    <tr>\n",
       "      <th>9054</th>\n",
       "      <td>ford</td>\n",
       "      <td>automatic</td>\n",
       "      <td>ga</td>\n",
       "      <td>3.7</td>\n",
       "      <td>23776.0</td>\n",
       "      <td>28800.0</td>\n",
       "      <td>29800.0</td>\n",
       "    </tr>\n",
       "  </tbody>\n",
       "</table>\n",
       "<p>9055 rows × 7 columns</p>\n",
       "</div>"
      ],
      "text/plain": [
       "        make transmission state  condition  odometer  auction_value  \\\n",
       "0     nissan    automatic    md        4.8       NaN        14350.0   \n",
       "1       ford    automatic    mo        3.7   29398.0        17600.0   \n",
       "2       ford    automatic    fl        3.2   32180.0        19100.0   \n",
       "3     nissan    automatic    ca        NaN   30798.0        11950.0   \n",
       "4       ford    automatic    nj        2.8   29526.0        28000.0   \n",
       "...      ...          ...   ...        ...       ...            ...   \n",
       "9050     NaN    automatic    il        4.2   41186.0            NaN   \n",
       "9051    ford    automatic    fl        NaN   38810.0        16250.0   \n",
       "9052  nissan          NaN    ga        4.7    4551.0        12500.0   \n",
       "9053    ford    automatic    il        4.6   33114.0        21800.0   \n",
       "9054    ford    automatic    ga        3.7   23776.0        28800.0   \n",
       "\n",
       "      selling_price  \n",
       "0           13600.0  \n",
       "1           17100.0  \n",
       "2           17600.0  \n",
       "3           10700.0  \n",
       "4           26100.0  \n",
       "...             ...  \n",
       "9050        11600.0  \n",
       "9051        17300.0  \n",
       "9052        13800.0  \n",
       "9053        27000.0  \n",
       "9054        29800.0  \n",
       "\n",
       "[9055 rows x 7 columns]"
      ]
     },
     "execution_count": 1,
     "metadata": {},
     "output_type": "execute_result"
    }
   ],
   "source": [
    "#imports all the packages and prints df\n",
    "import pandas as pd\n",
    "import numpy as np\n",
    "import matplotlib.pyplot as plt\n",
    "%matplotlib inline\n",
    "\n",
    "df = pd.read_csv('https://raw.githubusercontent.com/msaricaumbc/DS_data/master/ds602/regression/car-reg-data.csv')\n",
    "df"
   ]
  },
  {
   "cell_type": "code",
   "execution_count": 2,
   "metadata": {},
   "outputs": [
    {
     "name": "stdout",
     "output_type": "stream",
     "text": [
      "<class 'pandas.core.frame.DataFrame'>\n",
      "RangeIndex: 9055 entries, 0 to 9054\n",
      "Data columns (total 7 columns):\n",
      " #   Column         Non-Null Count  Dtype  \n",
      "---  ------         --------------  -----  \n",
      " 0   make           8164 non-null   object \n",
      " 1   transmission   8106 non-null   object \n",
      " 2   state          8152 non-null   object \n",
      " 3   condition      8173 non-null   float64\n",
      " 4   odometer       8178 non-null   float64\n",
      " 5   auction_value  8107 non-null   float64\n",
      " 6   selling_price  9055 non-null   float64\n",
      "dtypes: float64(4), object(3)\n",
      "memory usage: 495.3+ KB\n"
     ]
    }
   ],
   "source": [
    "#prints info() of df\n",
    "df.info()"
   ]
  },
  {
   "cell_type": "code",
   "execution_count": 3,
   "metadata": {},
   "outputs": [
    {
     "data": {
      "text/plain": [
       "(9055, 7)"
      ]
     },
     "execution_count": 3,
     "metadata": {},
     "output_type": "execute_result"
    }
   ],
   "source": [
    "#prints the shape of df\n",
    "df.shape"
   ]
  },
  {
   "cell_type": "code",
   "execution_count": 4,
   "metadata": {
    "id": "8-V179oOfRAD",
    "outputId": "ccec5da6-f96d-4beb-fc90-d0abce2b04c3"
   },
   "outputs": [
    {
     "name": "stdout",
     "output_type": "stream",
     "text": [
      "Records in training data: 7,244\n",
      "Records in test data: 1,811\n",
      "\n",
      "Features:\n",
      "make\n",
      "transmission\n",
      "state\n",
      "condition\n",
      "odometer\n",
      "auction_value\n"
     ]
    }
   ],
   "source": [
    "#split the data into training and test data\n",
    "from sklearn.model_selection import train_test_split\n",
    "features = [x for x in df.columns if x != 'selling_price']\n",
    "\n",
    "X = df[features]\n",
    "y = df['selling_price']\n",
    "\n",
    "X_train, X_test, y_train, y_test = train_test_split(X, y, test_size=0.2, random_state=100)\n",
    "\n",
    "print(f'Records in training data: {X_train.shape[0]:,}')\n",
    "print(f'Records in test data: {X_test.shape[0]:,}')\n",
    "print('\\nFeatures:')\n",
    "print(*X_train.columns, sep='\\n')"
   ]
  },
  {
   "cell_type": "markdown",
   "metadata": {
    "id": "2tnTCbrKfRAD"
   },
   "source": [
    "## Question 1: Split the features into two lists, one for the numerical features and another for the categorical features."
   ]
  },
  {
   "cell_type": "code",
   "execution_count": 5,
   "metadata": {
    "id": "fsOrAkzIfRAE"
   },
   "outputs": [],
   "source": [
    "# insert code here\n",
    "from sklearn.pipeline import Pipeline\n",
    "from sklearn.compose import ColumnTransformer\n",
    "from sklearn.impute import SimpleImputer\n",
    "from sklearn.preprocessing import OneHotEncoder\n",
    "from sklearn.preprocessing import StandardScaler"
   ]
  },
  {
   "cell_type": "code",
   "execution_count": 6,
   "metadata": {},
   "outputs": [],
   "source": [
    "cat_vars = ['make','transmission','state']\n",
    "num_vars = ['condition','odometer','auction_value']"
   ]
  },
  {
   "cell_type": "markdown",
   "metadata": {
    "id": "7D_seolufRAE"
   },
   "source": [
    "## Question 2: Using the numerical variables, create a pipeline that replaces the missing values with the median and then standardizes the values using a standard scaler."
   ]
  },
  {
   "cell_type": "code",
   "execution_count": 7,
   "metadata": {
    "id": "1HCDJVYLfRAE"
   },
   "outputs": [],
   "source": [
    "# insert code here\n",
    "num_pipeline = Pipeline([('impute_missing', SimpleImputer(strategy='median')),\n",
    "                           ('standardize_num', StandardScaler())\n",
    "                        ])\n"
   ]
  },
  {
   "cell_type": "markdown",
   "metadata": {
    "id": "pb1RpiK8fRAE"
   },
   "source": [
    "## Question 3: Using the categorical variables, create a pipeline that replaces the missing values with the most frequent and then use one-hot encoding to convert the data to numerical arrays.\n",
    "- You should be dropping one category from each variable when using the one-hot encoder.  \n",
    "- To ensure the pipeline doesn't break when it receives new/unexpected categories, you should ignore new categories.\n",
    "- Use a fit transformer on the training dataset to validate all the columns are now numeric and to determine how many columns the transformed data contains."
   ]
  },
  {
   "cell_type": "code",
   "execution_count": 8,
   "metadata": {
    "id": "7iduA10EfRAF"
   },
   "outputs": [],
   "source": [
    "# insert code here\n",
    "cat_pipeline = Pipeline([('impute_missing_cats', SimpleImputer(strategy='most_frequent')),\n",
    "                          ('create_dummies_cats', OneHotEncoder(handle_unknown='ignore', drop='first'))])"
   ]
  },
  {
   "cell_type": "markdown",
   "metadata": {
    "id": "7H79DSdzfRAF"
   },
   "source": [
    "## Question 4: Combine the numerical and categorical pipelines into one data processing pipeline.\n",
    "- Use a fit transformers and the training dataset to verify the data has no missing values and the correct number of columns."
   ]
  },
  {
   "cell_type": "code",
   "execution_count": 9,
   "metadata": {
    "id": "aHlQf4K8fRAF"
   },
   "outputs": [
    {
     "name": "stdout",
     "output_type": "stream",
     "text": [
      "ColumnTransformer(transformers=[('proc_numeric',\n",
      "                                 Pipeline(steps=[('impute_missing',\n",
      "                                                  SimpleImputer(strategy='median')),\n",
      "                                                 ('standardize_num',\n",
      "                                                  StandardScaler())]),\n",
      "                                 ['condition', 'odometer', 'auction_value']),\n",
      "                                ('create_dummies',\n",
      "                                 Pipeline(steps=[('impute_missing_cats',\n",
      "                                                  SimpleImputer(strategy='most_frequent')),\n",
      "                                                 ('create_dummies_cats',\n",
      "                                                  OneHotEncoder(drop='first',\n",
      "                                                                handle_unknown='ignore'))]),\n",
      "                                 ['make', 'transmission', 'state'])])\n"
     ]
    }
   ],
   "source": [
    "# insert code here\n",
    "processing_pipeline = ColumnTransformer(transformers=[('proc_numeric', num_pipeline, num_vars),\n",
    "                                                      ('create_dummies', cat_pipeline, cat_vars)])\n",
    "\n",
    "print(processing_pipeline)"
   ]
  },
  {
   "cell_type": "markdown",
   "metadata": {
    "id": "rAXDlehbfRAF"
   },
   "source": [
    "## Question 5: Add a linear regression model to the pipeline.\n",
    "- Report what the $R^2$ is using the `test` data.  "
   ]
  },
  {
   "cell_type": "code",
   "execution_count": 10,
   "metadata": {},
   "outputs": [
    {
     "data": {
      "text/plain": [
       "Pipeline(steps=[('data_processing',\n",
       "                 ColumnTransformer(transformers=[('proc_numeric',\n",
       "                                                  Pipeline(steps=[('impute_missing',\n",
       "                                                                   SimpleImputer(strategy='median')),\n",
       "                                                                  ('standardize_num',\n",
       "                                                                   StandardScaler())]),\n",
       "                                                  ['condition', 'odometer',\n",
       "                                                   'auction_value']),\n",
       "                                                 ('create_dummies',\n",
       "                                                  Pipeline(steps=[('impute_missing_cats',\n",
       "                                                                   SimpleImputer(strategy='most_frequent')),\n",
       "                                                                  ('create_dummies_cats',\n",
       "                                                                   OneHotEncoder(drop='first',\n",
       "                                                                                 handle_unknown='ignore'))]),\n",
       "                                                  ['make', 'transmission',\n",
       "                                                   'state'])])),\n",
       "                ('lm', LinearRegression())])"
      ]
     },
     "execution_count": 10,
     "metadata": {},
     "output_type": "execute_result"
    }
   ],
   "source": [
    "from sklearn.linear_model import LinearRegression\n",
    "\n",
    "modeling_pipeline = Pipeline([('data_processing', processing_pipeline), \n",
    "                              ('lm', LinearRegression())\n",
    "                             ])\n",
    "modeling_pipeline.fit(X_train, y_train)"
   ]
  },
  {
   "cell_type": "code",
   "execution_count": 11,
   "metadata": {},
   "outputs": [
    {
     "data": {
      "text/plain": [
       "array([15288.72275701, 17767.59012455, 15019.81295845, ...,\n",
       "       17117.19265722, 11351.57593288, 20851.97167129])"
      ]
     },
     "execution_count": 11,
     "metadata": {},
     "output_type": "execute_result"
    }
   ],
   "source": [
    "car_predictions = modeling_pipeline.predict(X_test)\n",
    "car_predictions"
   ]
  },
  {
   "cell_type": "code",
   "execution_count": 12,
   "metadata": {},
   "outputs": [
    {
     "data": {
      "text/plain": [
       "6998122.143264069"
      ]
     },
     "execution_count": 12,
     "metadata": {},
     "output_type": "execute_result"
    }
   ],
   "source": [
    "from sklearn.metrics import mean_squared_error\n",
    "mse = mean_squared_error(y_test,car_predictions)\n",
    "mse"
   ]
  },
  {
   "cell_type": "code",
   "execution_count": 13,
   "metadata": {},
   "outputs": [
    {
     "data": {
      "text/plain": [
       "2645.3964056950085"
      ]
     },
     "execution_count": 13,
     "metadata": {},
     "output_type": "execute_result"
    }
   ],
   "source": [
    "rmse = np.sqrt(mse)\n",
    "rmse"
   ]
  },
  {
   "cell_type": "code",
   "execution_count": 14,
   "metadata": {},
   "outputs": [
    {
     "data": {
      "text/plain": [
       "0.8838274405991853"
      ]
     },
     "execution_count": 14,
     "metadata": {},
     "output_type": "execute_result"
    }
   ],
   "source": [
    "from sklearn.metrics import r2_score\n",
    "r2 = r2_score(y_test, car_predictions)\n",
    "r2"
   ]
  },
  {
   "cell_type": "markdown",
   "metadata": {},
   "source": [
    "The R2 of 0.884 is using the test data."
   ]
  },
  {
   "cell_type": "markdown",
   "metadata": {
    "id": "tf5Qv4vgfRAF"
   },
   "source": [
    "## Question 6: Create a plot(s) of the residuals. Do you have any concerns about patterns in the residuals that the model is neglecting to pick-up?\n",
    "- Include a sentence or two on what you observe."
   ]
  },
  {
   "cell_type": "code",
   "execution_count": 15,
   "metadata": {
    "id": "qGrvisUJfRAG"
   },
   "outputs": [
    {
     "data": {
      "image/png": "[encoded data removed]",
      "text/plain": [
       "<Figure size 432x288 with 1 Axes>"
      ]
     },
     "metadata": {
      "needs_background": "light"
     },
     "output_type": "display_data"
    }
   ],
   "source": [
    "# insert code here\n",
    "import matplotlib.pyplot as plt\n",
    "\n",
    "plt.plot(y_test, car_predictions, 'ro')\n",
    "plt.xlabel('Actual')\n",
    "plt.ylabel('Predicted')\n",
    "plt.show()"
   ]
  },
  {
   "cell_type": "code",
   "execution_count": 16,
   "metadata": {},
   "outputs": [
    {
     "data": {
      "image/png": "[encoded data removed]",
      "text/plain": [
       "<Figure size 432x288 with 1 Axes>"
      ]
     },
     "metadata": {
      "needs_background": "light"
     },
     "output_type": "display_data"
    }
   ],
   "source": [
    "plt.plot(car_predictions, car_predictions - y_test, 'ro')\n",
    "plt.ylabel('Residual')\n",
    "plt.xlabel('Predicted')\n",
    "plt.show()"
   ]
  },
  {
   "cell_type": "markdown",
   "metadata": {
    "id": "2iDLDAOyfRAG"
   },
   "source": [
    "Insert description here."
   ]
  },
  {
   "cell_type": "markdown",
   "metadata": {},
   "source": [
    "Observations:\n",
    "\n",
    "1) If this was a perfect model, the residuals would be 0 for all actual/predicted values.\n",
    "2) In the above Residual/predicted graph , clearly we can observe residuals is 0 for all the predicted values, only few outliers present..  \n",
    "3) for the predicted values of range (10000 - 20000), the model is neglecting to pick-up and there is negative residual."
   ]
  },
  {
   "cell_type": "markdown",
   "metadata": {
    "id": "BlQKoK-qfRAG"
   },
   "source": [
    "## Question 7: Modify the pipeline to use a ridge regression model with an alpha value of 100. How does this change the $R^2$?"
   ]
  },
  {
   "cell_type": "code",
   "execution_count": 17,
   "metadata": {
    "id": "3Bb_oWXYfRAG"
   },
   "outputs": [
    {
     "data": {
      "text/plain": [
       "array([ 9.01235380e+02, -2.21760476e+02,  6.86465341e+03, -3.12413710e+02,\n",
       "       -3.72380488e+02, -3.05445419e+02, -2.69794448e+02, -1.86398005e+02,\n",
       "       -7.33128946e+02, -9.05948960e+02, -6.35796586e+02, -1.86033629e+02,\n",
       "       -3.33173002e+02,  3.49919821e+02,  4.21217076e+02,  3.11284609e+01,\n",
       "        9.49969452e+01, -7.39997343e+01,  1.24546801e+02, -3.40506757e+02,\n",
       "        2.31197544e+00, -2.35693863e+02, -4.17676766e+02,  1.34011435e+02,\n",
       "       -9.59909962e+01,  4.22809984e+02,  1.16124616e+02, -1.86057720e+02,\n",
       "        1.21282524e+02, -5.66385629e+01, -4.41416970e+00,  3.55832878e+02,\n",
       "       -3.49303228e+02, -1.21324048e+02, -7.93074276e+01, -1.21615062e+02,\n",
       "       -3.91386616e+02, -1.73769436e+02,  3.30477585e+02,  1.54770345e+02,\n",
       "       -5.63228709e+01, -1.31283703e+02,  7.32283808e+00,  1.06959101e+02])"
      ]
     },
     "execution_count": 17,
     "metadata": {},
     "output_type": "execute_result"
    }
   ],
   "source": [
    "from sklearn.linear_model import Ridge\n",
    "\n",
    "modeling_pipeline_ridge = Pipeline([('data_processing', processing_pipeline), ('ridge', Ridge(alpha=100))])\n",
    "modeling_pipeline_ridge.fit(X_train, y_train)\n",
    "modeling_pipeline_ridge['ridge'].coef_"
   ]
  },
  {
   "cell_type": "code",
   "execution_count": 18,
   "metadata": {},
   "outputs": [
    {
     "data": {
      "text/plain": [
       "array([  887.27570125,  -225.88045922,  6817.22027756, -2031.21325773,\n",
       "       -2258.08086629, -2066.5169624 , -1977.6048662 , -1939.85949453,\n",
       "       -2645.77632729, -2881.12967478, -2439.73352465, -1881.48900664,\n",
       "        -550.68502911,   154.65636029,   720.37924264,  -110.31943645,\n",
       "         -31.25678158,  -823.63499591,    83.03880286,  -804.38590729,\n",
       "         -31.26285241,  -920.26227983,  -849.52479441,   109.44638114,\n",
       "        -191.16095889,   441.92452674,   575.46189368,  -341.51288002,\n",
       "         257.63433966,  -274.74458504,  -546.95093021,   301.03272243,\n",
       "        -816.96442388,  -403.11084951,  -793.08276616,  -231.64936541,\n",
       "       -1843.22790698,  -629.60194946,   347.37964999,    91.24090419,\n",
       "        -454.03525308,  -295.42182761,  -100.24196871,   -27.36534138])"
      ]
     },
     "execution_count": 18,
     "metadata": {},
     "output_type": "execute_result"
    }
   ],
   "source": [
    "modeling_pipeline['lm'].coef_"
   ]
  },
  {
   "cell_type": "code",
   "execution_count": 19,
   "metadata": {},
   "outputs": [
    {
     "name": "stdout",
     "output_type": "stream",
     "text": [
      "Done\n"
     ]
    }
   ],
   "source": [
    "from collections import defaultdict\n",
    "alphas = [0, 1, 2, 5, 10, 50]\n",
    "\n",
    "ridge_results = defaultdict(dict)\n",
    "\n",
    "for alph in alphas:\n",
    "    modeling_pipeline_ridge = Pipeline([('data_processing', processing_pipeline), ('ridge', Ridge(alpha=100))])\n",
    "    modeling_pipeline_ridge.fit(X_train, y_train)\n",
    "    ridge_results['coefficients'][alph] = modeling_pipeline_ridge['ridge'].coef_\n",
    "    ridge_results['training score'][alph] = modeling_pipeline_ridge.score(X_train, y_train)\n",
    "    ridge_results['test score'][alph] = modeling_pipeline_ridge.score(X_test, y_test)\n",
    "\n",
    "print('Done')"
   ]
  },
  {
   "cell_type": "code",
   "execution_count": 20,
   "metadata": {},
   "outputs": [
    {
     "data": {
      "image/png": "[encoded data removed]",
      "text/plain": [
       "<Figure size 576x288 with 1 Axes>"
      ]
     },
     "metadata": {
      "needs_background": "light"
     },
     "output_type": "display_data"
    }
   ],
   "source": [
    "coefficients_ridge = pd.DataFrame.from_dict(ridge_results['coefficients'])\n",
    "coefficients_ridge = coefficients_ridge.reset_index()\n",
    "coefficients_ridge = coefficients_ridge.rename(columns={'index':'coefficient_nbr'})\n",
    "coefficients_ridge = coefficients_ridge.melt(id_vars='coefficient_nbr', var_name='alpha', value_name='coefficient')\n",
    "\n",
    "(\n",
    "coefficients_ridge.pivot_table(index='alpha', columns='coefficient_nbr', values='coefficient')\n",
    "    .plot(figsize=(8,4),legend=False)\n",
    ")\n",
    "\n",
    "plt.title('Ridge Coefficients', loc='left')\n",
    "plt.xlabel('Alpha (Regularization Amount)')\n",
    "plt.ylabel('Coefficient')\n",
    "plt.show()"
   ]
  },
  {
   "cell_type": "code",
   "execution_count": 21,
   "metadata": {},
   "outputs": [
    {
     "data": {
      "image/png": "[encoded data removed]",
      "text/plain": [
       "<Figure size 432x288 with 1 Axes>"
      ]
     },
     "metadata": {
      "needs_background": "light"
     },
     "output_type": "display_data"
    }
   ],
   "source": [
    "ridge_training_r2 = pd.Series(ridge_results['training score'])\n",
    "ridge_test_r2 = pd.Series(ridge_results['test score'])\n",
    "\n",
    "ridge_training_r2.plot()\n",
    "ridge_test_r2.plot()\n",
    "plt.title('$R^2$ for Ridge Regression')\n",
    "plt.legend(['Training','Test'])\n",
    "plt.xlabel('Alpha (Regularization Level)')\n",
    "plt.ylabel('Percent of Variance Explained')\n",
    "plt.ylim(0.4, 1)\n",
    "plt.show()"
   ]
  },
  {
   "cell_type": "code",
   "execution_count": null,
   "metadata": {},
   "outputs": [],
   "source": []
  }
 ],
 "metadata": {
  "colab": {
   "provenance": []
  },
  "kernelspec": {
   "display_name": "Python 3 (ipykernel)",
   "language": "python",
   "name": "python3"
  },
  "language_info": {
   "codemirror_mode": {
    "name": "ipython",
    "version": 3
   },
   "file_extension": ".py",
   "mimetype": "text/x-python",
   "name": "python",
   "nbconvert_exporter": "python",
   "pygments_lexer": "ipython3",
   "version": "3.9.12"
  },
  "toc": {
   "base_numbering": 1,
   "nav_menu": {},
   "number_sections": true,
   "sideBar": true,
   "skip_h1_title": false,
   "title_cell": "Table of Contents",
   "title_sidebar": "Contents",
   "toc_cell": false,
   "toc_position": {},
   "toc_section_display": true,
   "toc_window_display": false
  }
 },
 "nbformat": 4,
 "nbformat_minor": 1
}
