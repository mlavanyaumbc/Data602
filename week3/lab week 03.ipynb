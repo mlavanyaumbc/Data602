{
 "cells": [
  {
   "cell_type": "markdown",
   "id": "57771d6f",
   "metadata": {
    "id": "57771d6f"
   },
   "source": [
    "# Week 3 Lab"
   ]
  },
  {
   "cell_type": "markdown",
   "id": "ccb647fd",
   "metadata": {
    "id": "ccb647fd"
   },
   "source": [
    "## Questions:\n",
    "- Differences between supervised and unsupervised learning?  \n",
    "- Differences between classification and regression?  \n",
    "- Classification and regression are the only types of supervised learning? "
   ]
  },
  {
   "cell_type": "markdown",
   "id": "03e12e71",
   "metadata": {
    "id": "03e12e71"
   },
   "source": []
  },
  {
   "cell_type": "markdown",
   "id": "e9e29635",
   "metadata": {},
   "source": [
    "Question 1 : Differences between supervised and unsupervised learning?\n",
    "\n",
    "\n",
    "What is supervised learning? \n",
    "\n",
    "  The supervised learning approach to machine learning is distinguished by the use of labeled datasets. These datasets are meant to \"supervise\" or \"train\" algorithms to categorize data accurately or predict results. Labeled inputs and outputs provide the model the ability to track its accuracy and get better over time. \n",
    "\n",
    "When using data mining, supervised learning may be divided into two categories: classification and regression. \n",
    "\n",
    "What is unsupervised learning? \n",
    "\n",
    "  Machine learning algorithms are used in unsupervised learning to examine and group unlabeled data sets. These algorithms are referred to as \"unsupervised\" since they identify hidden patterns in data without the assistance of a person. \n",
    "\n",
    "Clustering, association, and dimensionality reduction are the three basic tasks that unsupervised learning models are utilized for. \n",
    "\n",
    "What distinguishes supervised learning from unsupervised learning is: Data with labels \n",
    "\n",
    "  The usage of labeled datasets is the primary difference between the two methodologies. Simply said, an unsupervised learning algorithm does not employ labeled input and output data. Supervised learning does. \n",
    "\n",
    "Other key differences between supervised and unsupervised learning: \n",
    "\n",
    "  Goals : Predicting results for fresh data is the aim of supervised learning. The type of effects you can anticipate are clear up front. Gaining knowledge from a lot of fresh data is the aim of an unsupervised learning method. \n",
    "\n",
    "  Applications:  Supervised learning models are excellent for a variety of tasks, including spam identification, sentiment analysis, weather forecasting, and price prediction. Unsupervised learning, on the other hand, is ideal for medical imaging, recommendation engines, customer personas, and anomaly detection. \n",
    "\n",
    "  Drawbacks: The labels for the input and output variables need to be accurate, and the training of supervised learning models might take a long time. Unsupervised learning techniques, on the other hand, might produce radically erroneous results unless there is human validation of the output variables. "
   ]
  },
  {
   "cell_type": "markdown",
   "id": "2735248e",
   "metadata": {},
   "source": [
    "Question 2: Differences between classification and regression?\n",
    "\n",
    "The main distinction between classification and regression is that although classification aids in the prediction of discrete class labels, regression assists in the prediction of continuous quantities. The two categories of machine learning algorithms also have certain similarities.\n",
    "\n",
    "1)An integer-based discrete value can be predicted using a regression technique.\n",
    "2)A continuous value can be predicted by a classification algorithm if it takes the form of a class label probability.\n",
    "\n",
    "What is Regression Machine Learning? \n",
    "  A continuous value is predicted by regression methods using the input variables. Estimating a mapping function based on the input and output variables is the primary objective of regression issues. Use a regression model if your goal variable is a number, such as income, grades, height, or weight, or a probability, such as the likelihood that it will rain in a given area. Nonetheless, data scientists and ML engineers utilize a variety of regressions depending on the context.\n",
    "  The different types of regression algorithms include:1. Simple linear regression 2. Multiple linear regression 3.Polynomial regression\n",
    "  \n",
    "What is Classification Machine Learning?\n",
    "  A classification model predicts discrete output variables, such as labels or categories, by approximating a mapping function from input variables. In classification algorithms, the mapping function is in charge of foretelling the label or category of the provided input variables. Discrete and real-valued variables can both be used in a classification process, but it still needs the instances to fall into one of at least two classes.\n"
   ]
  },
  {
   "cell_type": "markdown",
   "id": "89a2052d",
   "metadata": {},
   "source": [
    "Question 3:Classification and regression are the only types of supervised learning?\n",
    "\n",
    "   No, there is also other types of supervised learning.There are total 5 types of learning.\n",
    "       1. Regression\n",
    "            There two types of regression; they are as follows:\n",
    "            a)Linear Regression\n",
    "            b)Logistic regression\n",
    "       2. Naive Bayes\n",
    "            A Naive Bayes approach is used for large datasets. The algorithm's independent operation by each program is the foundation of the approach. This shows that the presence of one trait has no bearing on the presence of the other. It is frequently used in applications such as text classification, recommendation engines, and others.\n",
    "       3. Classification\n",
    "            Some of the classification algorithms are as follows:\n",
    "            a) K-nearest neighbor \n",
    "            b) Random forest \n",
    "            c) Support vector machines\n",
    "            d) Decision tree\n",
    "            e) Linear classifiers\n",
    "       4. Neutral networks\n",
    "             This kind of supervised learning method is utilized to classify or organize unstructured data. It is also employed for pattern recognition and reading sensory data. The algorithm, however, needs large quantities of computing power. Its applications are therefore limited.\n",
    "       5. Random forest\n",
    "             The random forest algorithm is commonly referred to as an ensemble method since it uses a variety of supervised learning techniques to arrive at its results. The classification of individual trees is also produced using a significant number of decision trees. Thus, it is frequently used throughout industries."
   ]
  }
 ],
 "metadata": {
  "colab": {
   "provenance": []
  },
  "kernelspec": {
   "display_name": "Python 3 (ipykernel)",
   "language": "python",
   "name": "python3"
  },
  "language_info": {
   "codemirror_mode": {
    "name": "ipython",
    "version": 3
   },
   "file_extension": ".py",
   "mimetype": "text/x-python",
   "name": "python",
   "nbconvert_exporter": "python",
   "pygments_lexer": "ipython3",
   "version": "3.9.12"
  },
  "toc": {
   "base_numbering": 1,
   "nav_menu": {},
   "number_sections": true,
   "sideBar": true,
   "skip_h1_title": false,
   "title_cell": "Table of Contents",
   "title_sidebar": "Contents",
   "toc_cell": false,
   "toc_position": {},
   "toc_section_display": true,
   "toc_window_display": false
  }
 },
 "nbformat": 4,
 "nbformat_minor": 5
}
